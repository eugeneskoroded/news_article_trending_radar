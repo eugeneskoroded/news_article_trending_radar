{
 "cells": [
  {
   "cell_type": "markdown",
   "id": "5a5b457c-4604-422a-970b-bce105d28fc5",
   "metadata": {
    "tags": []
   },
   "source": [
    "# Задача «Радар тенденций новостных статей»\n",
    "\n",
    "## Введение\n",
    "\n",
    "Фраза “в нужный момент в нужном месте” хорошо описывает положение авторских текстов. Иногда качественно написанная статья проходит мимо своей потенциальной аудитории из-за более актуальных тем дня или неудачного заголовка.\n",
    "\n",
    "Хорошо, что алгоритмы ИИ активно продвинулись в анализе текста и способны в автоматическом режиме анализировать и вычленять тенденции, а имея большой набор данных, можно научиться предсказывать их наперед.\n",
    "\n",
    "Разумеется, что есть такие общемировые темы, которые невозможно предсказать, как, например, пандемия “коронавируса” или застрявший контейнеровоз, тем не менее исследования специалистов показывают, что в обществе есть тенденции, которые приходят и уходят в фиксированный временной период.\n",
    "\n",
    "## Условие задачи\n",
    "\n",
    "У компании РБК довольно взрослая аудитория, которую она хочет расширить за счет добавления статей на актуальные темы. Для этого вам нужно проанализировать лучшие новости российских СМИ и научиться предсказывать их популярность. Ожидается, что для этого будут использованы NLP модели.\n",
    "\n",
    "## Описание входных значений\n",
    "\n",
    "* train.csv — файл для обучения, содержит 7000 строчек, каждая из которых представляет из себя одну новостную статью\n",
    "* test.csv — файл, содержащий 3000 строк, для предсказания\n",
    "* sample_solution.csv — пример файла для отправки\n",
    "\n",
    "## В наборе данных присутствует уникальных 11 строк:\n",
    "\n",
    "* document id - идентификатор\n",
    "* title - заголовок статьи\n",
    "* publish_date - время публикации\n",
    "* session - номер сессии\n",
    "* authors - код автора\n",
    "* views - количество просмотров\n",
    "* depth - объем прочитанного материала\n",
    "* full_reads_percent - процент читателей полностью прочитавших статью\n",
    "* ctr - показатель кликабельности\n",
    "* category - категория статьи\n",
    "* tags - ключевые слова в статье\n",
    "\n",
    "## На что стоит обратить внимание\n",
    "\n",
    "Разрешено использование предобученных моделей. Платные модели или \"приватные\" модели использовать не разрешается.\n",
    "\n",
    "## Метрика\n",
    "\n",
    "Цель модели участников — предсказать 3 численные характеристики, которые в полной мере показывают популярность статьи: views, full reads percent, depth.\n",
    "\n",
    "Для оценки качества решения используется метрика R2:\n",
    "\n",
    "$result = 0.4*R2_{views}+0.3*R2_{full\\_ reads\\_percent}+0.3*R2_{depth}$"
   ]
  },
  {
   "cell_type": "markdown",
   "id": "efe61266-071d-4a99-a002-2b4207c2ab08",
   "metadata": {},
   "source": [
    "## Импорт необходимых библиотек и настройка среды"
   ]
  },
  {
   "cell_type": "code",
   "execution_count": 1,
   "id": "d1e5330d-69e6-4bbe-934b-c9fba7c67a93",
   "metadata": {},
   "outputs": [],
   "source": [
    "import nltk\n",
    "import ruts\n",
    "import warnings\n",
    "import pymorphy2\n",
    "import numpy as np\n",
    "import pandas as pd\n",
    "import matplotlib.pyplot as plt\n",
    "import spacy\n",
    "import ru_core_news_md\n",
    "\n",
    "from datetime import datetime\n",
    "from string import punctuation\n",
    "from tqdm.notebook import tqdm\n",
    "from collections import Counter\n",
    "from nltk.corpus import stopwords\n",
    "from sklearn.metrics import r2_score\n",
    "from sklearn.feature_extraction.text import TfidfVectorizer, CountVectorizer"
   ]
  },
  {
   "cell_type": "code",
   "execution_count": 2,
   "id": "28377373-0816-470b-b497-95b3a94b25b9",
   "metadata": {},
   "outputs": [],
   "source": [
    "warnings.filterwarnings(\"ignore\")\n",
    "tqdm.pandas()\n",
    "# Сброс ограничений на количество выводимых рядов\n",
    "pd.set_option('display.max_rows', 20)\n",
    "# Сброс ограничений на число столбцов\n",
    "pd.set_option('display.max_columns', None)\n",
    "# Сброс ограничений на количество символов в записи\n",
    "pd.set_option('display.max_colwidth', None)"
   ]
  },
  {
   "cell_type": "code",
   "execution_count": 3,
   "id": "014c9381-00f5-42fc-a79b-76f17d904aa6",
   "metadata": {},
   "outputs": [],
   "source": [
    "RANDOM_STATE = 42"
   ]
  },
  {
   "cell_type": "markdown",
   "id": "4eae9901-dd02-463f-b4f0-5f32881fbd0b",
   "metadata": {},
   "source": [
    "## Загрузка датасета"
   ]
  },
  {
   "cell_type": "code",
   "execution_count": 4,
   "id": "9cd8c846-c51e-445d-80e5-979da34942fe",
   "metadata": {},
   "outputs": [],
   "source": [
    "train_data = pd.read_csv('train_pr_v2.csv', index_col='document_id')"
   ]
  },
  {
   "cell_type": "code",
   "execution_count": 5,
   "id": "2de9104a-26a7-4e4e-b964-360e228b89a1",
   "metadata": {},
   "outputs": [],
   "source": [
    "#train_data.head(3)"
   ]
  },
  {
   "cell_type": "code",
   "execution_count": 6,
   "id": "d26a5286-c8bf-430c-90d4-2d168d17d183",
   "metadata": {},
   "outputs": [],
   "source": [
    "test_data = pd.read_csv('test_pr_v2.csv', index_col='document_id')"
   ]
  },
  {
   "cell_type": "code",
   "execution_count": 7,
   "id": "54161e81-8b3a-4dc6-a95a-a784c6004178",
   "metadata": {},
   "outputs": [],
   "source": [
    "#test_data.head(3)"
   ]
  },
  {
   "cell_type": "markdown",
   "id": "a3b84c88-88a8-408d-aa00-7645f08cf6a0",
   "metadata": {},
   "source": [
    "### Описание датасетов"
   ]
  },
  {
   "cell_type": "code",
   "execution_count": 8,
   "id": "0cc7e12e-6792-4f04-b732-33a2da515a68",
   "metadata": {},
   "outputs": [
    {
     "data": {
      "text/html": [
       "<div>\n",
       "<style scoped>\n",
       "    .dataframe tbody tr th:only-of-type {\n",
       "        vertical-align: middle;\n",
       "    }\n",
       "\n",
       "    .dataframe tbody tr th {\n",
       "        vertical-align: top;\n",
       "    }\n",
       "\n",
       "    .dataframe thead th {\n",
       "        text-align: right;\n",
       "    }\n",
       "</style>\n",
       "<table border=\"1\" class=\"dataframe\">\n",
       "  <thead>\n",
       "    <tr style=\"text-align: right;\">\n",
       "      <th></th>\n",
       "      <th>ctr</th>\n",
       "      <th>views</th>\n",
       "      <th>depth</th>\n",
       "      <th>full_reads_percent</th>\n",
       "      <th>div_count</th>\n",
       "      <th>main_image</th>\n",
       "      <th>inline_items</th>\n",
       "      <th>url_count</th>\n",
       "      <th>rbk_pro</th>\n",
       "      <th>recommend_video</th>\n",
       "      <th>video_count</th>\n",
       "      <th>gallery</th>\n",
       "      <th>image_count</th>\n",
       "    </tr>\n",
       "  </thead>\n",
       "  <tbody>\n",
       "    <tr>\n",
       "      <th>count</th>\n",
       "      <td>7000.000000</td>\n",
       "      <td>7.000000e+03</td>\n",
       "      <td>7000.000000</td>\n",
       "      <td>7000.000000</td>\n",
       "      <td>7000.000000</td>\n",
       "      <td>7000.000000</td>\n",
       "      <td>7000.000000</td>\n",
       "      <td>7000.000000</td>\n",
       "      <td>7000.000000</td>\n",
       "      <td>7000.000000</td>\n",
       "      <td>7000.000000</td>\n",
       "      <td>7000.000000</td>\n",
       "      <td>7000.000000</td>\n",
       "    </tr>\n",
       "    <tr>\n",
       "      <th>mean</th>\n",
       "      <td>2.217779</td>\n",
       "      <td>3.035162e+04</td>\n",
       "      <td>1.104794</td>\n",
       "      <td>34.619633</td>\n",
       "      <td>61.124571</td>\n",
       "      <td>0.864571</td>\n",
       "      <td>1.225571</td>\n",
       "      <td>5.063714</td>\n",
       "      <td>0.824857</td>\n",
       "      <td>0.441143</td>\n",
       "      <td>0.110714</td>\n",
       "      <td>0.006714</td>\n",
       "      <td>0.215714</td>\n",
       "    </tr>\n",
       "    <tr>\n",
       "      <th>std</th>\n",
       "      <td>2.778085</td>\n",
       "      <td>9.547786e+04</td>\n",
       "      <td>0.065018</td>\n",
       "      <td>10.775901</td>\n",
       "      <td>24.501148</td>\n",
       "      <td>0.342205</td>\n",
       "      <td>0.730886</td>\n",
       "      <td>4.070805</td>\n",
       "      <td>0.380116</td>\n",
       "      <td>0.496559</td>\n",
       "      <td>0.341700</td>\n",
       "      <td>0.081671</td>\n",
       "      <td>1.156201</td>\n",
       "    </tr>\n",
       "    <tr>\n",
       "      <th>min</th>\n",
       "      <td>0.000000</td>\n",
       "      <td>6.500000e+01</td>\n",
       "      <td>1.016000</td>\n",
       "      <td>4.978000</td>\n",
       "      <td>0.000000</td>\n",
       "      <td>0.000000</td>\n",
       "      <td>0.000000</td>\n",
       "      <td>0.000000</td>\n",
       "      <td>0.000000</td>\n",
       "      <td>0.000000</td>\n",
       "      <td>0.000000</td>\n",
       "      <td>0.000000</td>\n",
       "      <td>0.000000</td>\n",
       "    </tr>\n",
       "    <tr>\n",
       "      <th>25%</th>\n",
       "      <td>0.000000</td>\n",
       "      <td>5.438250e+03</td>\n",
       "      <td>1.055000</td>\n",
       "      <td>27.516000</td>\n",
       "      <td>67.000000</td>\n",
       "      <td>1.000000</td>\n",
       "      <td>1.000000</td>\n",
       "      <td>3.000000</td>\n",
       "      <td>1.000000</td>\n",
       "      <td>0.000000</td>\n",
       "      <td>0.000000</td>\n",
       "      <td>0.000000</td>\n",
       "      <td>0.000000</td>\n",
       "    </tr>\n",
       "    <tr>\n",
       "      <th>50%</th>\n",
       "      <td>1.348500</td>\n",
       "      <td>1.196200e+04</td>\n",
       "      <td>1.082000</td>\n",
       "      <td>34.334500</td>\n",
       "      <td>68.500000</td>\n",
       "      <td>1.000000</td>\n",
       "      <td>1.000000</td>\n",
       "      <td>4.000000</td>\n",
       "      <td>1.000000</td>\n",
       "      <td>0.000000</td>\n",
       "      <td>0.000000</td>\n",
       "      <td>0.000000</td>\n",
       "      <td>0.000000</td>\n",
       "    </tr>\n",
       "    <tr>\n",
       "      <th>75%</th>\n",
       "      <td>3.598500</td>\n",
       "      <td>2.705300e+04</td>\n",
       "      <td>1.147000</td>\n",
       "      <td>41.366250</td>\n",
       "      <td>73.000000</td>\n",
       "      <td>1.000000</td>\n",
       "      <td>2.000000</td>\n",
       "      <td>7.000000</td>\n",
       "      <td>1.000000</td>\n",
       "      <td>1.000000</td>\n",
       "      <td>0.000000</td>\n",
       "      <td>0.000000</td>\n",
       "      <td>0.000000</td>\n",
       "    </tr>\n",
       "    <tr>\n",
       "      <th>max</th>\n",
       "      <td>39.877000</td>\n",
       "      <td>2.554204e+06</td>\n",
       "      <td>1.799000</td>\n",
       "      <td>267.623000</td>\n",
       "      <td>180.000000</td>\n",
       "      <td>1.000000</td>\n",
       "      <td>8.000000</td>\n",
       "      <td>89.000000</td>\n",
       "      <td>1.000000</td>\n",
       "      <td>1.000000</td>\n",
       "      <td>8.000000</td>\n",
       "      <td>1.000000</td>\n",
       "      <td>26.000000</td>\n",
       "    </tr>\n",
       "  </tbody>\n",
       "</table>\n",
       "</div>"
      ],
      "text/plain": [
       "               ctr         views        depth  full_reads_percent  \\\n",
       "count  7000.000000  7.000000e+03  7000.000000         7000.000000   \n",
       "mean      2.217779  3.035162e+04     1.104794           34.619633   \n",
       "std       2.778085  9.547786e+04     0.065018           10.775901   \n",
       "min       0.000000  6.500000e+01     1.016000            4.978000   \n",
       "25%       0.000000  5.438250e+03     1.055000           27.516000   \n",
       "50%       1.348500  1.196200e+04     1.082000           34.334500   \n",
       "75%       3.598500  2.705300e+04     1.147000           41.366250   \n",
       "max      39.877000  2.554204e+06     1.799000          267.623000   \n",
       "\n",
       "         div_count   main_image  inline_items    url_count      rbk_pro  \\\n",
       "count  7000.000000  7000.000000   7000.000000  7000.000000  7000.000000   \n",
       "mean     61.124571     0.864571      1.225571     5.063714     0.824857   \n",
       "std      24.501148     0.342205      0.730886     4.070805     0.380116   \n",
       "min       0.000000     0.000000      0.000000     0.000000     0.000000   \n",
       "25%      67.000000     1.000000      1.000000     3.000000     1.000000   \n",
       "50%      68.500000     1.000000      1.000000     4.000000     1.000000   \n",
       "75%      73.000000     1.000000      2.000000     7.000000     1.000000   \n",
       "max     180.000000     1.000000      8.000000    89.000000     1.000000   \n",
       "\n",
       "       recommend_video  video_count      gallery  image_count  \n",
       "count      7000.000000  7000.000000  7000.000000  7000.000000  \n",
       "mean          0.441143     0.110714     0.006714     0.215714  \n",
       "std           0.496559     0.341700     0.081671     1.156201  \n",
       "min           0.000000     0.000000     0.000000     0.000000  \n",
       "25%           0.000000     0.000000     0.000000     0.000000  \n",
       "50%           0.000000     0.000000     0.000000     0.000000  \n",
       "75%           1.000000     0.000000     0.000000     0.000000  \n",
       "max           1.000000     8.000000     1.000000    26.000000  "
      ]
     },
     "execution_count": 8,
     "metadata": {},
     "output_type": "execute_result"
    }
   ],
   "source": [
    "train_data.describe()"
   ]
  },
  {
   "cell_type": "code",
   "execution_count": 9,
   "id": "69f10fd3-6744-4ff5-840c-16000e96f324",
   "metadata": {},
   "outputs": [
    {
     "data": {
      "text/html": [
       "<div>\n",
       "<style scoped>\n",
       "    .dataframe tbody tr th:only-of-type {\n",
       "        vertical-align: middle;\n",
       "    }\n",
       "\n",
       "    .dataframe tbody tr th {\n",
       "        vertical-align: top;\n",
       "    }\n",
       "\n",
       "    .dataframe thead th {\n",
       "        text-align: right;\n",
       "    }\n",
       "</style>\n",
       "<table border=\"1\" class=\"dataframe\">\n",
       "  <thead>\n",
       "    <tr style=\"text-align: right;\">\n",
       "      <th></th>\n",
       "      <th>ctr</th>\n",
       "      <th>div_count</th>\n",
       "      <th>main_image</th>\n",
       "      <th>inline_items</th>\n",
       "      <th>url_count</th>\n",
       "      <th>rbk_pro</th>\n",
       "      <th>recommend_video</th>\n",
       "      <th>video_count</th>\n",
       "      <th>gallery</th>\n",
       "      <th>image_count</th>\n",
       "    </tr>\n",
       "  </thead>\n",
       "  <tbody>\n",
       "    <tr>\n",
       "      <th>count</th>\n",
       "      <td>3000.000000</td>\n",
       "      <td>3000.000000</td>\n",
       "      <td>3000.000000</td>\n",
       "      <td>3000.000000</td>\n",
       "      <td>3000.000000</td>\n",
       "      <td>3000.000000</td>\n",
       "      <td>3000.000000</td>\n",
       "      <td>3000.000000</td>\n",
       "      <td>3000.000000</td>\n",
       "      <td>3000.000000</td>\n",
       "    </tr>\n",
       "    <tr>\n",
       "      <th>mean</th>\n",
       "      <td>2.286467</td>\n",
       "      <td>61.721333</td>\n",
       "      <td>0.854000</td>\n",
       "      <td>1.259000</td>\n",
       "      <td>5.127333</td>\n",
       "      <td>0.831667</td>\n",
       "      <td>0.464000</td>\n",
       "      <td>0.121667</td>\n",
       "      <td>0.006667</td>\n",
       "      <td>0.244667</td>\n",
       "    </tr>\n",
       "    <tr>\n",
       "      <th>std</th>\n",
       "      <td>2.833735</td>\n",
       "      <td>24.016868</td>\n",
       "      <td>0.353165</td>\n",
       "      <td>0.772087</td>\n",
       "      <td>4.426396</td>\n",
       "      <td>0.374224</td>\n",
       "      <td>0.498785</td>\n",
       "      <td>0.342884</td>\n",
       "      <td>0.081391</td>\n",
       "      <td>1.355514</td>\n",
       "    </tr>\n",
       "    <tr>\n",
       "      <th>min</th>\n",
       "      <td>0.000000</td>\n",
       "      <td>0.000000</td>\n",
       "      <td>0.000000</td>\n",
       "      <td>0.000000</td>\n",
       "      <td>0.000000</td>\n",
       "      <td>0.000000</td>\n",
       "      <td>0.000000</td>\n",
       "      <td>0.000000</td>\n",
       "      <td>0.000000</td>\n",
       "      <td>0.000000</td>\n",
       "    </tr>\n",
       "    <tr>\n",
       "      <th>25%</th>\n",
       "      <td>0.000000</td>\n",
       "      <td>67.000000</td>\n",
       "      <td>1.000000</td>\n",
       "      <td>1.000000</td>\n",
       "      <td>3.000000</td>\n",
       "      <td>1.000000</td>\n",
       "      <td>0.000000</td>\n",
       "      <td>0.000000</td>\n",
       "      <td>0.000000</td>\n",
       "      <td>0.000000</td>\n",
       "    </tr>\n",
       "    <tr>\n",
       "      <th>50%</th>\n",
       "      <td>1.448500</td>\n",
       "      <td>69.000000</td>\n",
       "      <td>1.000000</td>\n",
       "      <td>1.000000</td>\n",
       "      <td>4.000000</td>\n",
       "      <td>1.000000</td>\n",
       "      <td>0.000000</td>\n",
       "      <td>0.000000</td>\n",
       "      <td>0.000000</td>\n",
       "      <td>0.000000</td>\n",
       "    </tr>\n",
       "    <tr>\n",
       "      <th>75%</th>\n",
       "      <td>3.654000</td>\n",
       "      <td>73.000000</td>\n",
       "      <td>1.000000</td>\n",
       "      <td>2.000000</td>\n",
       "      <td>7.000000</td>\n",
       "      <td>1.000000</td>\n",
       "      <td>1.000000</td>\n",
       "      <td>0.000000</td>\n",
       "      <td>0.000000</td>\n",
       "      <td>0.000000</td>\n",
       "    </tr>\n",
       "    <tr>\n",
       "      <th>max</th>\n",
       "      <td>30.531000</td>\n",
       "      <td>181.000000</td>\n",
       "      <td>1.000000</td>\n",
       "      <td>9.000000</td>\n",
       "      <td>89.000000</td>\n",
       "      <td>1.000000</td>\n",
       "      <td>1.000000</td>\n",
       "      <td>3.000000</td>\n",
       "      <td>1.000000</td>\n",
       "      <td>33.000000</td>\n",
       "    </tr>\n",
       "  </tbody>\n",
       "</table>\n",
       "</div>"
      ],
      "text/plain": [
       "               ctr    div_count   main_image  inline_items    url_count  \\\n",
       "count  3000.000000  3000.000000  3000.000000   3000.000000  3000.000000   \n",
       "mean      2.286467    61.721333     0.854000      1.259000     5.127333   \n",
       "std       2.833735    24.016868     0.353165      0.772087     4.426396   \n",
       "min       0.000000     0.000000     0.000000      0.000000     0.000000   \n",
       "25%       0.000000    67.000000     1.000000      1.000000     3.000000   \n",
       "50%       1.448500    69.000000     1.000000      1.000000     4.000000   \n",
       "75%       3.654000    73.000000     1.000000      2.000000     7.000000   \n",
       "max      30.531000   181.000000     1.000000      9.000000    89.000000   \n",
       "\n",
       "           rbk_pro  recommend_video  video_count      gallery  image_count  \n",
       "count  3000.000000      3000.000000  3000.000000  3000.000000  3000.000000  \n",
       "mean      0.831667         0.464000     0.121667     0.006667     0.244667  \n",
       "std       0.374224         0.498785     0.342884     0.081391     1.355514  \n",
       "min       0.000000         0.000000     0.000000     0.000000     0.000000  \n",
       "25%       1.000000         0.000000     0.000000     0.000000     0.000000  \n",
       "50%       1.000000         0.000000     0.000000     0.000000     0.000000  \n",
       "75%       1.000000         1.000000     0.000000     0.000000     0.000000  \n",
       "max       1.000000         1.000000     3.000000     1.000000    33.000000  "
      ]
     },
     "execution_count": 9,
     "metadata": {},
     "output_type": "execute_result"
    }
   ],
   "source": [
    "test_data.describe()"
   ]
  },
  {
   "cell_type": "markdown",
   "id": "b7a5a6d2-b25a-4df6-9c2b-53580e7d4fdb",
   "metadata": {},
   "source": [
    "### Информация о датасете"
   ]
  },
  {
   "cell_type": "code",
   "execution_count": 10,
   "id": "0465ddf9-a5a9-40d2-a61f-05a17a376b40",
   "metadata": {},
   "outputs": [
    {
     "name": "stdout",
     "output_type": "stream",
     "text": [
      "<class 'pandas.core.frame.DataFrame'>\n",
      "Index: 7000 entries, 624ac09c9a7947db3d80c98eIDE7mtH4RBqGn-8MXfGffQ to 627f1c089a794743b070ff73hVvdVmFxS2SlZ2_lECDEow\n",
      "Data columns (total 24 columns):\n",
      " #   Column              Non-Null Count  Dtype  \n",
      "---  ------              --------------  -----  \n",
      " 0   title               7000 non-null   object \n",
      " 1   publish_date        7000 non-null   object \n",
      " 2   session             7000 non-null   object \n",
      " 3   authors             7000 non-null   object \n",
      " 4   ctr                 7000 non-null   float64\n",
      " 5   category            7000 non-null   object \n",
      " 6   tags                7000 non-null   object \n",
      " 7   views               7000 non-null   int64  \n",
      " 8   depth               7000 non-null   float64\n",
      " 9   full_reads_percent  7000 non-null   float64\n",
      " 10  url_id              7000 non-null   object \n",
      " 11  url                 7000 non-null   object \n",
      " 12  div_count           7000 non-null   int64  \n",
      " 13  overview            7000 non-null   object \n",
      " 14  main_image          7000 non-null   int64  \n",
      " 15  inline_items        7000 non-null   int64  \n",
      " 16  url_count           7000 non-null   int64  \n",
      " 17  rbk_pro             7000 non-null   int64  \n",
      " 18  recommend_video     7000 non-null   int64  \n",
      " 19  video_count         7000 non-null   int64  \n",
      " 20  gallery             7000 non-null   int64  \n",
      " 21  image_count         7000 non-null   int64  \n",
      " 22  tags_word           7000 non-null   object \n",
      " 23  text                7000 non-null   object \n",
      "dtypes: float64(3), int64(10), object(11)\n",
      "memory usage: 1.3+ MB\n"
     ]
    }
   ],
   "source": [
    "train_data.info()"
   ]
  },
  {
   "cell_type": "code",
   "execution_count": 11,
   "id": "f1d164b8-9a69-46e6-b5dd-f8466214e9c4",
   "metadata": {},
   "outputs": [
    {
     "name": "stdout",
     "output_type": "stream",
     "text": [
      "<class 'pandas.core.frame.DataFrame'>\n",
      "Index: 3000 entries, 61f9569a9a794794245a82abJ0AvX96vTAaQCiWVbzoMdw to 6236f9129a79477b0ef18ae0ewByZQ1FQBK2dpXyY77rYw\n",
      "Data columns (total 21 columns):\n",
      " #   Column           Non-Null Count  Dtype  \n",
      "---  ------           --------------  -----  \n",
      " 0   title            3000 non-null   object \n",
      " 1   publish_date     3000 non-null   object \n",
      " 2   session          3000 non-null   object \n",
      " 3   authors          3000 non-null   object \n",
      " 4   ctr              3000 non-null   float64\n",
      " 5   category         3000 non-null   object \n",
      " 6   tags             3000 non-null   object \n",
      " 7   url_id           3000 non-null   object \n",
      " 8   url              3000 non-null   object \n",
      " 9   div_count        3000 non-null   int64  \n",
      " 10  overview         3000 non-null   object \n",
      " 11  main_image       3000 non-null   int64  \n",
      " 12  inline_items     3000 non-null   int64  \n",
      " 13  url_count        3000 non-null   int64  \n",
      " 14  rbk_pro          3000 non-null   int64  \n",
      " 15  recommend_video  3000 non-null   int64  \n",
      " 16  video_count      3000 non-null   int64  \n",
      " 17  gallery          3000 non-null   int64  \n",
      " 18  image_count      3000 non-null   int64  \n",
      " 19  tags_word        3000 non-null   object \n",
      " 20  text             3000 non-null   object \n",
      "dtypes: float64(1), int64(9), object(11)\n",
      "memory usage: 515.6+ KB\n"
     ]
    }
   ],
   "source": [
    "test_data.info()"
   ]
  },
  {
   "cell_type": "markdown",
   "id": "a0e7ec00-d456-4f24-8e3b-a463259d5c10",
   "metadata": {},
   "source": [
    "### Проверка на отсутствующие данные"
   ]
  },
  {
   "cell_type": "code",
   "execution_count": 12,
   "id": "9ddb8e2e-bb03-496d-a5ad-4cb48d15086e",
   "metadata": {},
   "outputs": [
    {
     "data": {
      "text/plain": [
       "title           0\n",
       "publish_date    0\n",
       "session         0\n",
       "authors         0\n",
       "ctr             0\n",
       "               ..\n",
       "video_count     0\n",
       "gallery         0\n",
       "image_count     0\n",
       "tags_word       0\n",
       "text            0\n",
       "Length: 24, dtype: int64"
      ]
     },
     "execution_count": 12,
     "metadata": {},
     "output_type": "execute_result"
    }
   ],
   "source": [
    "train_data.isna().sum()"
   ]
  },
  {
   "cell_type": "code",
   "execution_count": 13,
   "id": "72d0a520-f6ab-4ab5-975a-2190ac4042a6",
   "metadata": {},
   "outputs": [
    {
     "data": {
      "text/plain": [
       "title           0\n",
       "publish_date    0\n",
       "session         0\n",
       "authors         0\n",
       "ctr             0\n",
       "               ..\n",
       "video_count     0\n",
       "gallery         0\n",
       "image_count     0\n",
       "tags_word       0\n",
       "text            0\n",
       "Length: 21, dtype: int64"
      ]
     },
     "execution_count": 13,
     "metadata": {},
     "output_type": "execute_result"
    }
   ],
   "source": [
    "test_data.isna().sum()"
   ]
  },
  {
   "cell_type": "markdown",
   "id": "cc2ac3ff-07cc-4690-9af0-a6faec7a7fc1",
   "metadata": {},
   "source": [
    "### Уникальные значения"
   ]
  },
  {
   "cell_type": "code",
   "execution_count": 14,
   "id": "60098df6-5780-406f-904f-302d0754154b",
   "metadata": {},
   "outputs": [
    {
     "data": {
      "text/plain": [
       "title           6935\n",
       "publish_date    6985\n",
       "session         5901\n",
       "authors          561\n",
       "ctr             3178\n",
       "                ... \n",
       "video_count        5\n",
       "gallery            2\n",
       "image_count       19\n",
       "tags_word       6798\n",
       "text            6809\n",
       "Length: 24, dtype: int64"
      ]
     },
     "execution_count": 14,
     "metadata": {},
     "output_type": "execute_result"
    }
   ],
   "source": [
    "train_data.nunique()"
   ]
  },
  {
   "cell_type": "code",
   "execution_count": 15,
   "id": "d623733b-7ca1-47ad-8d29-84bda31cfd46",
   "metadata": {},
   "outputs": [
    {
     "data": {
      "text/plain": [
       "title           2983\n",
       "publish_date    3000\n",
       "session         2718\n",
       "authors          326\n",
       "ctr             1617\n",
       "                ... \n",
       "video_count        4\n",
       "gallery            2\n",
       "image_count       16\n",
       "tags_word       2945\n",
       "text            2932\n",
       "Length: 21, dtype: int64"
      ]
     },
     "execution_count": 15,
     "metadata": {},
     "output_type": "execute_result"
    }
   ],
   "source": [
    "test_data.nunique()"
   ]
  },
  {
   "cell_type": "markdown",
   "id": "0a0eb848-6d3e-4d9f-a83b-0a97ea7e7136",
   "metadata": {},
   "source": [
    "### Наличие дубликатов"
   ]
  },
  {
   "cell_type": "code",
   "execution_count": 16,
   "id": "fc70189b-2a1d-485f-9ef3-b7f19e5c6a37",
   "metadata": {},
   "outputs": [
    {
     "data": {
      "text/plain": [
       "{False}"
      ]
     },
     "execution_count": 16,
     "metadata": {},
     "output_type": "execute_result"
    }
   ],
   "source": [
    "set(train_data.duplicated())"
   ]
  },
  {
   "cell_type": "code",
   "execution_count": 17,
   "id": "db89a52d-73c4-4216-bfed-3042f86e4f6b",
   "metadata": {},
   "outputs": [
    {
     "data": {
      "text/plain": [
       "{False}"
      ]
     },
     "execution_count": 17,
     "metadata": {},
     "output_type": "execute_result"
    }
   ],
   "source": [
    "set(test_data.duplicated())"
   ]
  },
  {
   "cell_type": "markdown",
   "id": "1924ce65-fe98-482f-b10b-21c831d2eecd",
   "metadata": {},
   "source": [
    "## Feature engineering"
   ]
  },
  {
   "cell_type": "code",
   "execution_count": 18,
   "id": "4143b35a-1783-4f46-9aa8-db8d28d71f60",
   "metadata": {},
   "outputs": [],
   "source": [
    "df_train = train_data.copy()"
   ]
  },
  {
   "cell_type": "code",
   "execution_count": 19,
   "id": "5af4403f-a836-4956-8ae2-f06269e830ba",
   "metadata": {},
   "outputs": [],
   "source": [
    "df_train['full_reads_percent'] = df_train['full_reads_percent'].apply(lambda x: 100 if x > 100 else x)"
   ]
  },
  {
   "cell_type": "code",
   "execution_count": 20,
   "id": "c1481b2b-872b-44e5-a175-230b0fbe7528",
   "metadata": {},
   "outputs": [],
   "source": [
    "#df_train.head(3)"
   ]
  },
  {
   "cell_type": "markdown",
   "id": "d1065969-3d8d-4796-9d00-fda0053cf656",
   "metadata": {
    "tags": []
   },
   "source": [
    "### document_id"
   ]
  },
  {
   "cell_type": "code",
   "execution_count": 21,
   "id": "ea06b199-1204-4b98-9276-7bc73d3b214e",
   "metadata": {},
   "outputs": [],
   "source": [
    "# def document_id_transform(dataframe):\n",
    "#     df = dataframe.copy()\n",
    "#     df['doc_id'] = df.index\n",
    "#     for index, row in tqdm(df.iterrows()):\n",
    "#         df.at[index, 'doc_id'] = row['doc_id'].replace(row['session'], '')\n",
    "#     return df"
   ]
  },
  {
   "cell_type": "code",
   "execution_count": 22,
   "id": "92c16875-df88-46d0-a10c-1fb4bdc3ad51",
   "metadata": {},
   "outputs": [],
   "source": [
    "#df_train = document_id_transform(df_train)"
   ]
  },
  {
   "cell_type": "code",
   "execution_count": 23,
   "id": "c938f5e5-89a7-4824-ba41-8756e4a11ef4",
   "metadata": {},
   "outputs": [],
   "source": [
    "#df_train.head(3)"
   ]
  },
  {
   "cell_type": "markdown",
   "id": "bf6a8a8a-757f-4402-bccf-c071a4942457",
   "metadata": {
    "tags": []
   },
   "source": [
    "### ctr"
   ]
  },
  {
   "cell_type": "code",
   "execution_count": 24,
   "id": "071b47e4-4dd4-45de-8297-d52a4ca5e576",
   "metadata": {},
   "outputs": [],
   "source": [
    "# ctr = df_train['ctr'].to_list()\n",
    "# plt.figure(figsize=(24, 12))\n",
    "# plt.scatter(range(len(ctr)), ctr)\n",
    "# plt.show()"
   ]
  },
  {
   "cell_type": "code",
   "execution_count": 25,
   "id": "d98f7d51-0413-498e-8186-98d9b2ce333f",
   "metadata": {},
   "outputs": [],
   "source": [
    "# mm_scaler = MinMaxScaler()\n",
    "# ctr_mm_scale = mm_scaler.fit_transform(df_train['ctr'].values.reshape(-1, 1))"
   ]
  },
  {
   "cell_type": "code",
   "execution_count": 26,
   "id": "d2a31540-4aeb-4c58-9d33-8f08507ce826",
   "metadata": {},
   "outputs": [],
   "source": [
    "# plt.figure(figsize=(24, 12))\n",
    "# plt.scatter(range(len(ctr_mm_scale)), ctr_mm_scale)\n",
    "# plt.show()"
   ]
  },
  {
   "cell_type": "code",
   "execution_count": 27,
   "id": "b3e13914-34af-493e-bb11-95520bc533a4",
   "metadata": {},
   "outputs": [],
   "source": [
    "# std_scaler = StandardScaler()\n",
    "# ctr_std_scale = std_scaler.fit_transform(df_train['ctr'].values.reshape(-1, 1))"
   ]
  },
  {
   "cell_type": "code",
   "execution_count": 28,
   "id": "27d268aa-590b-45c2-981e-e5f4ea67183e",
   "metadata": {},
   "outputs": [],
   "source": [
    "# plt.figure(figsize=(24, 12))\n",
    "# plt.scatter(range(len(ctr_std_scale)), ctr_std_scale)\n",
    "# plt.show()"
   ]
  },
  {
   "cell_type": "code",
   "execution_count": 29,
   "id": "85f8be1c-7378-469d-9899-a5f6816c179b",
   "metadata": {},
   "outputs": [],
   "source": [
    "#df_train['ctr'] = ctr_std_scale"
   ]
  },
  {
   "cell_type": "code",
   "execution_count": 30,
   "id": "f4916f5c-a41e-4dfd-b541-9b6ea533c9a4",
   "metadata": {},
   "outputs": [],
   "source": [
    "#df_train.head(3)"
   ]
  },
  {
   "cell_type": "markdown",
   "id": "dafd4db3-572c-4f67-9d53-c3b1cbeb30cf",
   "metadata": {
    "tags": []
   },
   "source": [
    "### publish_date"
   ]
  },
  {
   "cell_type": "code",
   "execution_count": 31,
   "id": "75bca831-0b6f-46e4-90f5-601ebe7d7538",
   "metadata": {
    "scrolled": true,
    "tags": []
   },
   "outputs": [],
   "source": [
    "dates = sorted(df_train['publish_date'].to_list())\n",
    "dates = sorted(list(set([el[:10] for el in dates])))[10:]\n",
    "#dates"
   ]
  },
  {
   "cell_type": "code",
   "execution_count": 32,
   "id": "2d5580a6-ae4b-47a9-adb5-93b744b4d8d2",
   "metadata": {},
   "outputs": [],
   "source": [
    "def publish_date_transform(dataframe):\n",
    "    df = dataframe.copy()\n",
    "    df['publish_date'] = df['publish_date'].apply(lambda x: datetime.strptime(x, '%Y-%m-%d %H:%M:%S'))\n",
    "    df['month=2022-02'] = df['publish_date'].apply(lambda x: 1 if datetime(2022, 2, 1).date() <= x.date() <= datetime(2022, 2, 28).date() else 0)\n",
    "    df['month=2022-03'] = df['publish_date'].apply(lambda x: 1 if datetime(2022, 3, 1).date() <= x.date() <= datetime(2022, 3, 31).date() else 0)\n",
    "    df['month=2022-04'] = df['publish_date'].apply(lambda x: 1 if datetime(2022, 4, 1).date() <= x.date() <= datetime(2022, 4, 30).date() else 0)\n",
    "    df['month=2022-05'] = df['publish_date'].apply(lambda x: 1 if datetime(2022, 5, 1).date() <= x.date() <= datetime(2022, 5, 31).date() else 0)\n",
    "    df['month=other'] = df['publish_date'].apply(lambda x: 1 if x.date() < datetime(2022, 2, 1).date() or x.date() > datetime(2022, 5, 31).date() else 0)\n",
    "    df['hour_sin'] = df['publish_date'].apply(lambda x: np.sin((2 * np.pi * x.hour) / 24))\n",
    "    df['hour_cos'] = df['publish_date'].apply(lambda x: np.cos((2 * np.pi * x.hour) / 24))\n",
    "    for d in dates:\n",
    "        c_name = f'date={d}'\n",
    "        df[c_name] = df['publish_date'].apply(lambda x: 1 if str(x.date()) == d else 0)\n",
    "    weekdays = list(range(1, 8))\n",
    "    for w in weekdays:\n",
    "        c_name = f'weekday={w}'\n",
    "        df[c_name] = df['publish_date'].apply(lambda x: 1 if datetime.isoweekday(x) == w else 0)\n",
    "#     df['weekday'] = df['publish_date'].apply(lambda x: datetime.isoweekday(x))\n",
    "#     df['date'] = df['publish_date'].dt.date\n",
    "#     df['hour'] = df['publish_date'].apply(lambda x: x.hour)\n",
    "#     dates = pd.date_range(datetime(2022, 2, 1), datetime(2022, 5, 29))\n",
    "#     hours = list(range(0, 24))\n",
    "#     for h in hours:\n",
    "#         c_name = f'hour={h}'\n",
    "#         df[c_name] = df['publish_date'].apply(lambda x: 1 if x.hour == h else 0)\n",
    "#     df['time'] = df['publish_date'].dt.time\n",
    "#     df['year'] = df['publish_date'].apply(lambda x: x.year)\n",
    "#     df['month'] = df['publish_date'].apply(lambda x: x.month)\n",
    "#     df['day'] = df['publish_date'].apply(lambda x: x.day)\n",
    "#     df['minute'] = df['publish_date'].apply(lambda x: x.minute)\n",
    "#     df['second'] = df['publish_date'].apply(lambda x: x.second)\n",
    "#     df.drop(['publish_date', 'date', 'weekday', 'hour'], axis=1, inplace=True)\n",
    "    return df"
   ]
  },
  {
   "cell_type": "code",
   "execution_count": 33,
   "id": "635f839c-7abc-43ef-8ffc-884d067f6a0e",
   "metadata": {
    "scrolled": true,
    "tags": []
   },
   "outputs": [],
   "source": [
    "df_train = publish_date_transform(df_train)"
   ]
  },
  {
   "cell_type": "code",
   "execution_count": 34,
   "id": "568abbab-1a4d-4311-9e63-d1b341992cc0",
   "metadata": {
    "scrolled": true,
    "tags": []
   },
   "outputs": [],
   "source": [
    "#df_train.head(3)"
   ]
  },
  {
   "cell_type": "markdown",
   "id": "f81aec93-8edf-414e-b99a-d134608d1a05",
   "metadata": {
    "tags": []
   },
   "source": [
    "### category"
   ]
  },
  {
   "cell_type": "code",
   "execution_count": 35,
   "id": "437662d7-2ec6-4b3d-8231-27c215f0f6cb",
   "metadata": {},
   "outputs": [
    {
     "name": "stdout",
     "output_type": "stream",
     "text": [
      "[('politics', 3988), ('society', 1456), ('business', 667), ('economics', 338), ('technology_and_media', 283), ('finances', 265), ('auto', 1), ('money', 1), ('realty', 1)]\n"
     ]
    }
   ],
   "source": [
    "print(Counter(df_train['category'].to_list()).most_common())"
   ]
  },
  {
   "cell_type": "code",
   "execution_count": 36,
   "id": "40cacae9-867f-462e-964e-d0c2bd056b82",
   "metadata": {},
   "outputs": [
    {
     "name": "stdout",
     "output_type": "stream",
     "text": [
      "[('politics', 1718), ('society', 637), ('business', 273), ('economics', 153), ('technology_and_media', 127), ('finances', 92)]\n"
     ]
    }
   ],
   "source": [
    "print(Counter(test_data['category'].to_list()).most_common())"
   ]
  },
  {
   "cell_type": "code",
   "execution_count": 37,
   "id": "7b85f197-2354-4fee-b3bc-91bcc086e0ea",
   "metadata": {},
   "outputs": [],
   "source": [
    "list_of_categories = ['politics', 'society', 'business', 'economics', 'technology_and_media', 'finances']"
   ]
  },
  {
   "cell_type": "code",
   "execution_count": 38,
   "id": "0e2a47be-209d-4b17-bd50-bc9ced449e64",
   "metadata": {},
   "outputs": [],
   "source": [
    "def category_transform(dataframe):\n",
    "    df = dataframe.copy()\n",
    "    for c in list_of_categories:\n",
    "        c_name = f'category={c}'\n",
    "        df[c_name] = df['category'].apply(lambda x: 1 if x == c else 0)\n",
    "    df['category=other'] = df['category'].apply(lambda x: 1 if x not in list_of_categories else 0)\n",
    "    return df"
   ]
  },
  {
   "cell_type": "code",
   "execution_count": 39,
   "id": "6613e9e4-e097-4b77-bc2c-634abfca797e",
   "metadata": {},
   "outputs": [],
   "source": [
    "df_train = category_transform(df_train)"
   ]
  },
  {
   "cell_type": "code",
   "execution_count": 40,
   "id": "f424359e-e251-4188-b41a-0516369675b7",
   "metadata": {
    "scrolled": true,
    "tags": []
   },
   "outputs": [],
   "source": [
    "#df_train.head(3)"
   ]
  },
  {
   "cell_type": "markdown",
   "id": "0c68b9a3-fca4-43ae-8035-63141cfb259d",
   "metadata": {
    "tags": []
   },
   "source": [
    "### authors"
   ]
  },
  {
   "cell_type": "code",
   "execution_count": 41,
   "id": "238e75a7-7603-48fc-8fd1-c86b7aa70a6b",
   "metadata": {},
   "outputs": [],
   "source": [
    "def bag_of_words(dataframe, count_vec, col_name):\n",
    "    df = dataframe.copy()\n",
    "    x = count_vec.transform(df[col_name].to_list())\n",
    "    cols_n = [f'{col_name}={c}' for c in count_vec.get_feature_names()]\n",
    "    df_ = pd.DataFrame(x.toarray(), columns=cols_n, index=df.index)\n",
    "    df = pd.concat([df, df_], axis=1)\n",
    "    return df"
   ]
  },
  {
   "cell_type": "code",
   "execution_count": 42,
   "id": "c254bb39-34d8-4871-ad65-b8a9ffdb280d",
   "metadata": {
    "scrolled": true,
    "tags": []
   },
   "outputs": [],
   "source": [
    "# authors_number_of_papers = {}\n",
    "# authors_counter = []\n",
    "# for index, row in tqdm(df_train.iterrows()):\n",
    "#     list_of_authors = row['authors']\n",
    "#     if list_of_authors != 'no_authors':\n",
    "#         list_of_authors = list_of_authors.split(',')\n",
    "#         authors_counter.extend(list_of_authors)\n",
    "#     else:\n",
    "#         authors_counter.append('no_authors')\n",
    "# authors_number_of_papers = Counter(authors_counter)\n",
    "# print(authors_number_of_papers.most_common())"
   ]
  },
  {
   "cell_type": "code",
   "execution_count": 43,
   "id": "51888e96-26f4-4b15-af4e-066f2fb817cf",
   "metadata": {},
   "outputs": [],
   "source": [
    "n_authors = 10"
   ]
  },
  {
   "cell_type": "code",
   "execution_count": 44,
   "id": "18c02e80-37e1-4528-939d-a65e60f23a5d",
   "metadata": {
    "scrolled": true,
    "tags": []
   },
   "outputs": [
    {
     "data": {
      "text/plain": [
       "CountVectorizer(binary=True, min_df=10)"
      ]
     },
     "execution_count": 44,
     "metadata": {},
     "output_type": "execute_result"
    }
   ],
   "source": [
    "CountVecAuthors = CountVectorizer(ngram_range=(1, 1), min_df=n_authors, binary=True)\n",
    "CountVecAuthors.fit(df_train['authors'].to_list())"
   ]
  },
  {
   "cell_type": "code",
   "execution_count": 45,
   "id": "56df9166-79a2-4001-aed3-0c6cdbe3b49e",
   "metadata": {
    "scrolled": true,
    "tags": []
   },
   "outputs": [],
   "source": [
    "# print(len(CountVecAuthors.get_feature_names()))\n",
    "# print(CountVecAuthors.get_feature_names())"
   ]
  },
  {
   "cell_type": "code",
   "execution_count": 46,
   "id": "b096ec63-8319-4d7f-9bef-61b45a17dd06",
   "metadata": {},
   "outputs": [],
   "source": [
    "def authors_transform(dataframe):\n",
    "    df = dataframe.copy()\n",
    "    df['authors_number'] = df['authors'].apply(lambda x: len(x.split(',')) if x != 'no_authors' else 0)\n",
    "    df = bag_of_words(df, CountVecAuthors, 'authors')\n",
    "    return df"
   ]
  },
  {
   "cell_type": "code",
   "execution_count": 47,
   "id": "bdde2dc2-2dce-4d1e-ac80-210d837c3c8d",
   "metadata": {},
   "outputs": [],
   "source": [
    "#df_train = bag_of_words(df_train, CountVecAuthors, 'authors')\n",
    "df_train = authors_transform(df_train)"
   ]
  },
  {
   "cell_type": "code",
   "execution_count": 48,
   "id": "3a03da09-71d3-4520-8fa3-a8fde9e0a4b8",
   "metadata": {
    "scrolled": true,
    "tags": []
   },
   "outputs": [],
   "source": [
    "#df_train.head(3)"
   ]
  },
  {
   "cell_type": "markdown",
   "id": "8d912deb-1d58-43d7-9aa5-77992003c110",
   "metadata": {
    "tags": []
   },
   "source": [
    "### tags"
   ]
  },
  {
   "cell_type": "code",
   "execution_count": 49,
   "id": "84af9700-6d37-41ef-b2ec-b611c38211ce",
   "metadata": {},
   "outputs": [],
   "source": [
    "#df_train['tags'] = df_train['tags_name'].apply(lambda x: x.replace(' ', '_'))"
   ]
  },
  {
   "cell_type": "code",
   "execution_count": 50,
   "id": "fc01e6cb-34fa-4816-8a9e-bd4596cc3e47",
   "metadata": {
    "scrolled": true,
    "tags": []
   },
   "outputs": [],
   "source": [
    "# tags_number_of_papers = {}\n",
    "# tags_counter = []\n",
    "# for index, row in tqdm(df_train.iterrows()):\n",
    "#     list_of_tags = row['tags_word']\n",
    "#     if list_of_tags != 'no_tags':\n",
    "#         list_of_tags = list_of_tags.split(',')\n",
    "#         tags_counter.extend(list_of_tags)\n",
    "#     else:\n",
    "#         tags_counter.append('no_tags')\n",
    "# tags_number_of_papers = Counter(tags_counter)\n",
    "# print(tags_number_of_papers.most_common())"
   ]
  },
  {
   "cell_type": "code",
   "execution_count": 51,
   "id": "2829f711-fe01-4386-97d7-481f07d70612",
   "metadata": {},
   "outputs": [],
   "source": [
    "n_tags = 10"
   ]
  },
  {
   "cell_type": "code",
   "execution_count": 52,
   "id": "ae9ecfbf-1352-4ae6-b067-7c3d3bc5ef28",
   "metadata": {},
   "outputs": [
    {
     "data": {
      "text/plain": [
       "CountVectorizer(binary=True, min_df=10)"
      ]
     },
     "execution_count": 52,
     "metadata": {},
     "output_type": "execute_result"
    }
   ],
   "source": [
    "CountVecTags = CountVectorizer(ngram_range=(1, 1), min_df=n_tags, binary=True)\n",
    "CountVecTags.fit(df_train['tags'].to_list())"
   ]
  },
  {
   "cell_type": "code",
   "execution_count": 53,
   "id": "f8f7faba-81af-47a1-b0f9-bc1534b95b22",
   "metadata": {
    "scrolled": true,
    "tags": []
   },
   "outputs": [],
   "source": [
    "# print(len(CountVecTags.get_feature_names()))\n",
    "# print(CountVecTags.get_feature_names())"
   ]
  },
  {
   "cell_type": "code",
   "execution_count": 54,
   "id": "5aff7f07-5ffb-4b76-8cd0-4bf720729230",
   "metadata": {},
   "outputs": [],
   "source": [
    "def tags_transform(dataframe):\n",
    "    df = dataframe.copy()\n",
    "    #df['tags'] = df['tags_name'].apply(lambda x: x.replace(' ', '_'))\n",
    "    df['tags_number'] = df['tags'].apply(lambda x: len(x.split(',')) if x != 'no_tags' else 0)\n",
    "    df = bag_of_words(df, CountVecTags, 'tags')\n",
    "    return df"
   ]
  },
  {
   "cell_type": "code",
   "execution_count": 55,
   "id": "7ae84ae7-c9ed-46fd-a492-342a9fc1ca99",
   "metadata": {},
   "outputs": [],
   "source": [
    "#df_train = bag_of_words(df_train, CountVecTags, 'tags')\n",
    "df_train = tags_transform(df_train)"
   ]
  },
  {
   "cell_type": "code",
   "execution_count": 56,
   "id": "128a954e-2e86-4c16-b040-59ea37411432",
   "metadata": {
    "scrolled": true,
    "tags": []
   },
   "outputs": [],
   "source": [
    "#df_train.head(3)"
   ]
  },
  {
   "cell_type": "markdown",
   "id": "97101209-586e-4303-b651-115376f9ecba",
   "metadata": {
    "tags": []
   },
   "source": [
    "### title"
   ]
  },
  {
   "cell_type": "code",
   "execution_count": 57,
   "id": "0cfb8a56-640f-46a5-8ffb-9417a9daead4",
   "metadata": {},
   "outputs": [],
   "source": [
    "def tf_idf(dataframe, tfidf, col_name):\n",
    "    df = dataframe.copy()\n",
    "    x = tfidf.transform(df[col_name].to_list())\n",
    "    cols_n = [f'tfidf_{col_name}={c}' for c in tfidf.get_feature_names()]\n",
    "    df_ = pd.DataFrame(x.toarray(), columns=cols_n, index=df.index)\n",
    "    df = pd.concat([df, df_], axis=1)\n",
    "    return df"
   ]
  },
  {
   "cell_type": "code",
   "execution_count": 58,
   "id": "31fe85b9-0fc9-4c04-ab9f-9ee498fbb225",
   "metadata": {},
   "outputs": [],
   "source": [
    "#df_train['title_old'] = df_train['title'].copy()"
   ]
  },
  {
   "cell_type": "code",
   "execution_count": 59,
   "id": "c5270446-090f-4210-be11-e310e9f40920",
   "metadata": {},
   "outputs": [
    {
     "name": "stdout",
     "output_type": "stream",
     "text": [
      "['и', 'в', 'во', 'не', 'что', 'он', 'на', 'я', 'с', 'со', 'как', 'а', 'то', 'все', 'она', 'так', 'его', 'но', 'да', 'ты', 'к', 'у', 'же', 'вы', 'за', 'бы', 'по', 'только', 'ее', 'мне', 'было', 'вот', 'от', 'меня', 'еще', 'нет', 'о', 'из', 'ему', 'теперь', 'когда', 'даже', 'ну', 'вдруг', 'ли', 'если', 'уже', 'или', 'ни', 'быть', 'был', 'него', 'до', 'вас', 'нибудь', 'опять', 'уж', 'вам', 'ведь', 'там', 'потом', 'себя', 'ничего', 'ей', 'может', 'они', 'тут', 'где', 'есть', 'надо', 'ней', 'для', 'мы', 'тебя', 'их', 'чем', 'была', 'сам', 'чтоб', 'без', 'будто', 'чего', 'раз', 'тоже', 'себе', 'под', 'будет', 'ж', 'тогда', 'кто', 'этот', 'того', 'потому', 'этого', 'какой', 'совсем', 'ним', 'здесь', 'этом', 'один', 'почти', 'мой', 'тем', 'чтобы', 'нее', 'сейчас', 'были', 'куда', 'зачем', 'всех', 'никогда', 'можно', 'при', 'наконец', 'два', 'об', 'другой', 'хоть', 'после', 'над', 'больше', 'тот', 'через', 'эти', 'нас', 'про', 'всего', 'них', 'какая', 'много', 'разве', 'три', 'эту', 'моя', 'впрочем', 'хорошо', 'свою', 'этой', 'перед', 'иногда', 'лучше', 'чуть', 'том', 'нельзя', 'такой', 'им', 'более', 'всегда', 'конечно', 'всю', 'между', 'из-за']\n"
     ]
    }
   ],
   "source": [
    "russian_stopwords = stopwords.words(\"russian\")\n",
    "russian_stopwords.append('из-за')\n",
    "print(russian_stopwords)"
   ]
  },
  {
   "cell_type": "code",
   "execution_count": 60,
   "id": "1d0b96df-f898-486d-923b-cd1273058866",
   "metadata": {},
   "outputs": [
    {
     "name": "stdout",
     "output_type": "stream",
     "text": [
      "!\"#$%&'()*+,-./:;<=>?@[\\]^_`{|}~«»—\n"
     ]
    }
   ],
   "source": [
    "punctuation = list(punctuation)\n",
    "punctuation.append('«')\n",
    "punctuation.append('»')\n",
    "punctuation.append('—')\n",
    "punctuation = ''.join(punctuation)\n",
    "print(punctuation)"
   ]
  },
  {
   "cell_type": "code",
   "execution_count": 61,
   "id": "ba63ee75-6626-4eb0-9309-00ac48348c18",
   "metadata": {},
   "outputs": [],
   "source": [
    "morph = pymorphy2.MorphAnalyzer()"
   ]
  },
  {
   "cell_type": "code",
   "execution_count": 62,
   "id": "4a2f1b7b-25fa-4f75-ac31-8d51e1c3547e",
   "metadata": {},
   "outputs": [],
   "source": [
    "def lemmatize(text):\n",
    "    words = text.lower()\n",
    "    words = nltk.word_tokenize(words)\n",
    "    words = [word for word in words if word not in russian_stopwords and word not in punctuation]\n",
    "    res = [morph.parse(word)[0].normal_form for word in words]\n",
    "    return res"
   ]
  },
  {
   "cell_type": "code",
   "execution_count": 63,
   "id": "31ea2361-25f1-4fed-a5f0-cf812f5a7618",
   "metadata": {},
   "outputs": [],
   "source": [
    "def title_transform(dataframe):\n",
    "    df = dataframe.copy()\n",
    "    df['title_number_of_words'] = df['title'].apply(lambda x: len(nltk.word_tokenize(x)))\n",
    "    df['title_number_of_characters'] = df['title'].apply(lambda x: len(x))\n",
    "    df['title'] = df['title'].progress_apply(lambda x: ' '.join(lemmatize(x)))\n",
    "    return df"
   ]
  },
  {
   "cell_type": "code",
   "execution_count": 64,
   "id": "77be28fd-d237-456b-ba36-df3f87e6650c",
   "metadata": {},
   "outputs": [
    {
     "data": {
      "application/vnd.jupyter.widget-view+json": {
       "model_id": "3ee23be652db4ea4a1ccd74d43cf2158",
       "version_major": 2,
       "version_minor": 0
      },
      "text/plain": [
       "  0%|          | 0/7000 [00:00<?, ?it/s]"
      ]
     },
     "metadata": {},
     "output_type": "display_data"
    }
   ],
   "source": [
    "df_train = title_transform(df_train)"
   ]
  },
  {
   "cell_type": "code",
   "execution_count": 65,
   "id": "a17376ed-cd98-4d9c-9b81-c986909f32f4",
   "metadata": {
    "scrolled": true,
    "tags": []
   },
   "outputs": [],
   "source": [
    "#df_train.head(3)"
   ]
  },
  {
   "cell_type": "code",
   "execution_count": 66,
   "id": "fb0ab2f9-52ed-4d28-bf1d-76e351710233",
   "metadata": {
    "scrolled": true,
    "tags": []
   },
   "outputs": [],
   "source": [
    "# titles = ' '.join(df_train['title'].to_list())\n",
    "# titles = titles.split(sep=' ')\n",
    "# print(len(titles))\n",
    "# count_title = Counter(titles)\n",
    "# print(count_title.most_common())"
   ]
  },
  {
   "cell_type": "markdown",
   "id": "343b8f00-bf65-42c9-8515-2838ebd16478",
   "metadata": {},
   "source": [
    "#### Tf-Idf"
   ]
  },
  {
   "cell_type": "code",
   "execution_count": 67,
   "id": "aa63c9ff-d971-4787-b179-28234db17241",
   "metadata": {},
   "outputs": [],
   "source": [
    "# TfIdfTitle = TfidfVectorizer(ngram_range=(1, 1), min_df=2)\n",
    "# TfIdfTitle.fit(df_train['title'].to_list())"
   ]
  },
  {
   "cell_type": "code",
   "execution_count": 68,
   "id": "f25ca040-e734-4534-a5db-830b25da83e9",
   "metadata": {
    "scrolled": true,
    "tags": []
   },
   "outputs": [],
   "source": [
    "# print(len(TfIdfTitle.get_feature_names()))\n",
    "# print(TfIdfTitle.get_feature_names())"
   ]
  },
  {
   "cell_type": "code",
   "execution_count": 69,
   "id": "2ba5af3a-ff51-4c54-aecf-0f13f1edaf5e",
   "metadata": {},
   "outputs": [],
   "source": [
    "#df_train = tf_idf(df_train, TfIdfTitle, 'title')"
   ]
  },
  {
   "cell_type": "markdown",
   "id": "f1dca2bf-7469-4186-ac0b-31b6b2cd22c5",
   "metadata": {},
   "source": [
    "#### Bag of Words"
   ]
  },
  {
   "cell_type": "code",
   "execution_count": 70,
   "id": "6a018424-d2fb-4ef9-9c09-e2f4619c0b50",
   "metadata": {},
   "outputs": [
    {
     "data": {
      "text/plain": [
       "CountVectorizer(binary=True, min_df=2)"
      ]
     },
     "execution_count": 70,
     "metadata": {},
     "output_type": "execute_result"
    }
   ],
   "source": [
    "CountVecTitle = CountVectorizer(ngram_range=(1, 1), min_df=2, binary=True)\n",
    "CountVecTitle.fit(df_train['title'].to_list())"
   ]
  },
  {
   "cell_type": "code",
   "execution_count": 71,
   "id": "a3d83103-df2b-4c88-9c53-d2e0622199ec",
   "metadata": {
    "scrolled": true,
    "tags": []
   },
   "outputs": [],
   "source": [
    "# print(len(CountVecTitle.get_feature_names()))\n",
    "# print(CountVecTitle.get_feature_names())"
   ]
  },
  {
   "cell_type": "code",
   "execution_count": 72,
   "id": "4188f6c5-c310-4e0f-8ed0-93c738581c1a",
   "metadata": {},
   "outputs": [],
   "source": [
    "df_train = bag_of_words(df_train, CountVecTitle, 'title')"
   ]
  },
  {
   "cell_type": "code",
   "execution_count": 73,
   "id": "a3ce7210-3168-4ee3-98ce-22938cf4bd23",
   "metadata": {
    "scrolled": true,
    "tags": []
   },
   "outputs": [],
   "source": [
    "#df_train.head(3)"
   ]
  },
  {
   "cell_type": "markdown",
   "id": "25f66067-ba22-4193-8f00-d80d8f838a43",
   "metadata": {},
   "source": [
    "### overview"
   ]
  },
  {
   "cell_type": "code",
   "execution_count": 74,
   "id": "4f39f288-f769-40b3-974d-dee21249757e",
   "metadata": {},
   "outputs": [],
   "source": [
    "#df_train['overview_old'] = df_train['overview'].copy()"
   ]
  },
  {
   "cell_type": "code",
   "execution_count": 75,
   "id": "0d94fb5f-2902-4401-b7d5-4fd0a3d9f7dc",
   "metadata": {},
   "outputs": [],
   "source": [
    "def overview_transform(dataframe):\n",
    "    df = dataframe.copy()\n",
    "    df['overview_number_of_words'] = df['overview'].apply(lambda x: len(nltk.word_tokenize(x)) if x != 'no_overview' else 0)\n",
    "    df['overview_number_of_characters'] = df['overview'].apply(lambda x: len(x) if x != 'no_overview' else 0)\n",
    "    df['overview'] = df['overview'].progress_apply(lambda x: ' '.join(lemmatize(x)))\n",
    "    return df"
   ]
  },
  {
   "cell_type": "code",
   "execution_count": 76,
   "id": "dcad3dbc-e37f-49f1-8ecb-f60162457a6d",
   "metadata": {
    "scrolled": true,
    "tags": []
   },
   "outputs": [
    {
     "data": {
      "application/vnd.jupyter.widget-view+json": {
       "model_id": "6808b34b0211466bbe606093d1307edf",
       "version_major": 2,
       "version_minor": 0
      },
      "text/plain": [
       "  0%|          | 0/7000 [00:00<?, ?it/s]"
      ]
     },
     "metadata": {},
     "output_type": "display_data"
    }
   ],
   "source": [
    "df_train = overview_transform(df_train)"
   ]
  },
  {
   "cell_type": "code",
   "execution_count": 77,
   "id": "f29ec5df-9b1e-4349-9202-a966a607cb08",
   "metadata": {
    "scrolled": true,
    "tags": []
   },
   "outputs": [],
   "source": [
    "#df_train.head(3)"
   ]
  },
  {
   "cell_type": "code",
   "execution_count": 78,
   "id": "c23f08eb-6288-4ea0-9060-bd2a7d75e8b0",
   "metadata": {
    "scrolled": true,
    "tags": []
   },
   "outputs": [],
   "source": [
    "# overviews = ' '.join(df_train['overview'].to_list())\n",
    "# overviews = overviews.split(sep=' ')\n",
    "# print(len(overviews))\n",
    "# count_overview = Counter(overviews)\n",
    "# print(count_overview.most_common())"
   ]
  },
  {
   "cell_type": "markdown",
   "id": "608cee4d-2be9-40a1-b0ad-abb6ceb7da14",
   "metadata": {},
   "source": [
    "#### Tf-Idf"
   ]
  },
  {
   "cell_type": "code",
   "execution_count": 79,
   "id": "dea6c726-b6fa-4f85-8cce-bf149e806c9d",
   "metadata": {},
   "outputs": [],
   "source": [
    "#TfIdfOverview= TfidfVectorizer(ngram_range=(1, 1), min_df=2)\n",
    "#TfIdfOverview.fit(df_train['overview'].to_list())"
   ]
  },
  {
   "cell_type": "code",
   "execution_count": 80,
   "id": "b9c9c090-3e23-4799-8354-f1f5cb670458",
   "metadata": {
    "scrolled": true,
    "tags": []
   },
   "outputs": [],
   "source": [
    "#print(len(TfIdfOverview.get_feature_names()))\n",
    "#print(TfIdfOverview.get_feature_names())"
   ]
  },
  {
   "cell_type": "code",
   "execution_count": 81,
   "id": "9be54a06-b7c3-4dae-80be-84773c885190",
   "metadata": {},
   "outputs": [],
   "source": [
    "#df_train = tf_idf(df_train, TfIdfOverview, 'overview')"
   ]
  },
  {
   "cell_type": "markdown",
   "id": "2ce9a808-2a3f-42c8-847c-cd2b7787fce4",
   "metadata": {},
   "source": [
    "#### Bag of Words"
   ]
  },
  {
   "cell_type": "code",
   "execution_count": 82,
   "id": "fa7c0007-b639-4ab0-9eb4-980caadf6fc5",
   "metadata": {},
   "outputs": [
    {
     "data": {
      "text/plain": [
       "CountVectorizer(binary=True, min_df=2)"
      ]
     },
     "execution_count": 82,
     "metadata": {},
     "output_type": "execute_result"
    }
   ],
   "source": [
    "CountVecOverview = CountVectorizer(ngram_range=(1, 1), min_df=2, binary=True)\n",
    "CountVecOverview.fit(df_train['overview'].to_list())"
   ]
  },
  {
   "cell_type": "code",
   "execution_count": 83,
   "id": "4b4e500a-0b48-47a2-a42d-8c615d96ba90",
   "metadata": {
    "scrolled": true,
    "tags": []
   },
   "outputs": [],
   "source": [
    "# print(len(CountVecOverview.get_feature_names()))\n",
    "# print(CountVecOverview.get_feature_names())"
   ]
  },
  {
   "cell_type": "code",
   "execution_count": 84,
   "id": "ed90ad07-5758-4524-8339-f44717a141b9",
   "metadata": {},
   "outputs": [],
   "source": [
    "df_train = bag_of_words(df_train, CountVecOverview, 'overview')"
   ]
  },
  {
   "cell_type": "code",
   "execution_count": 85,
   "id": "b35e4950-2d22-4432-a6fa-0353adc84368",
   "metadata": {
    "scrolled": true,
    "tags": []
   },
   "outputs": [],
   "source": [
    "#df_train.head(3)"
   ]
  },
  {
   "cell_type": "markdown",
   "id": "d23f4fad-619d-48e3-8178-047ef74241c3",
   "metadata": {},
   "source": [
    "### text"
   ]
  },
  {
   "cell_type": "code",
   "execution_count": 86,
   "id": "b207ff5a-50b0-4a59-9aca-4a9325a374cf",
   "metadata": {},
   "outputs": [],
   "source": [
    "#df_train['text_old'] = df_train['text'].copy()"
   ]
  },
  {
   "cell_type": "code",
   "execution_count": 87,
   "id": "142acae7-a787-47df-98d4-b89342977d0f",
   "metadata": {},
   "outputs": [],
   "source": [
    "nlp_spacy = spacy.load('ru_core_news_md')"
   ]
  },
  {
   "cell_type": "code",
   "execution_count": 88,
   "id": "e6cdeff1-271d-4d66-9308-cd2b92fa18f6",
   "metadata": {},
   "outputs": [],
   "source": [
    "pos_list = ['ADJ', 'ADP', 'ADV', 'AUX', 'CCONJ', 'DET', 'INTJ', 'NOUN', 'NUM', 'PART', 'PRON', 'PROPN', 'PUNCT', 'SCONJ', 'SYM', 'VERB', 'X', 'SPACE']"
   ]
  },
  {
   "cell_type": "code",
   "execution_count": 89,
   "id": "223148a6-878d-454b-8394-60d742910b2b",
   "metadata": {},
   "outputs": [],
   "source": [
    "def part_of_speech(text):\n",
    "    pos_dict = dict([(x, 0) for x in pos_list])\n",
    "    text_nlp = nlp_spacy(text)\n",
    "    pos_list_text = [token.pos_ for token in text_nlp]\n",
    "    pos_counter = Counter(pos_list_text)\n",
    "    for pos in pos_list:\n",
    "        if pos in pos_list_text:\n",
    "            pos_dict[pos] = pos_counter[pos]\n",
    "    return pos_dict"
   ]
  },
  {
   "cell_type": "code",
   "execution_count": 90,
   "id": "3f296a6e-b626-4f2e-ac12-c915e5f16afb",
   "metadata": {},
   "outputs": [],
   "source": [
    "base_stats_list = ['n_sents', 'n_words', 'n_unique_words', 'n_long_words', 'n_complex_words', 'n_simple_words', 'n_monosyllable_words', 'n_polysyllable_words', 'n_chars',\n",
    "                   'n_letters', 'n_syllables']"
   ]
  },
  {
   "cell_type": "code",
   "execution_count": 91,
   "id": "2a81dd14-124e-403f-8c2a-ab87a10c78eb",
   "metadata": {},
   "outputs": [],
   "source": [
    "#readability_stats_list = ['flesch_kincaid_grade', 'flesch_reading_easy', 'coleman_liau_index', 'smog_index', 'automated_readability_index', 'lix']"
   ]
  },
  {
   "cell_type": "code",
   "execution_count": 92,
   "id": "755a81b8-0f72-4535-88df-463944ef5f13",
   "metadata": {},
   "outputs": [],
   "source": [
    "#diversity_stats_list = ['ttr', 'rttr', 'cttr', 'httr', 'sttr', 'mttr', 'dttr', 'mattr', 'msttr', 'mtld', 'mamtld', 'hdd', 'simpson_index', 'hapax_index']"
   ]
  },
  {
   "cell_type": "code",
   "execution_count": 93,
   "id": "039c4f6a-b78b-4a9b-9b52-d2dab2d0c65d",
   "metadata": {},
   "outputs": [],
   "source": [
    "def text_transform(dataframe):\n",
    "    df = dataframe.copy()\n",
    "    #df['text_number_of_words'] = df['text'].apply(lambda x: len(nltk.word_tokenize(x)) if x != 'no_text' else 0)\n",
    "    #df['text_number_of_characters'] = df['text'].apply(lambda x: len(x) if x != 'no_text' else 0)\n",
    "    for el in pos_list:\n",
    "        df[el] = 0\n",
    "    for el in base_stats_list:\n",
    "        df[el] = 0\n",
    "#     for el in readability_stats_list:\n",
    "#         df[el] = 0\n",
    "#     for el in diversity_stats_list:\n",
    "#         df[el] = 0\n",
    "    for index, row in tqdm(df.iterrows()):\n",
    "        row_text = row['text']\n",
    "        if row_text != 'no_text':\n",
    "            row_pos_dict = part_of_speech(row_text)\n",
    "            row_bs_dict = ruts.BasicStats(row_text).get_stats()\n",
    "            #row_rs_dict = ruts.ReadabilityStats(row_text).get_stats()\n",
    "            #row_ds_dict = ruts.DiversityStats(row_text).get_stats()\n",
    "            for el in pos_list:\n",
    "                df.at[index, el] = row_pos_dict[el]\n",
    "            for el in base_stats_list:\n",
    "                df.at[index, el] = row_bs_dict[el]\n",
    "#             for el in readability_stats_list:\n",
    "#                 df.at[index, el] = row_rs_dict[el]\n",
    "#             for el in diversity_stats_list:\n",
    "#                 df.at[index, el] = row_ds_dict[el]\n",
    "    df['text'] = df['text'].progress_apply(lambda x: ' '.join(lemmatize(x)))\n",
    "    return df"
   ]
  },
  {
   "cell_type": "code",
   "execution_count": 94,
   "id": "69d6f614-54d1-49aa-ad04-4cd5877d52b9",
   "metadata": {
    "scrolled": true,
    "tags": []
   },
   "outputs": [
    {
     "data": {
      "application/vnd.jupyter.widget-view+json": {
       "model_id": "94b86639aa7246e183638c0a521a53bb",
       "version_major": 2,
       "version_minor": 0
      },
      "text/plain": [
       "0it [00:00, ?it/s]"
      ]
     },
     "metadata": {},
     "output_type": "display_data"
    },
    {
     "data": {
      "application/vnd.jupyter.widget-view+json": {
       "model_id": "9948a6c79d6a484eae585b16cf8bb5e7",
       "version_major": 2,
       "version_minor": 0
      },
      "text/plain": [
       "  0%|          | 0/7000 [00:00<?, ?it/s]"
      ]
     },
     "metadata": {},
     "output_type": "display_data"
    }
   ],
   "source": [
    "df_train = text_transform(df_train)"
   ]
  },
  {
   "cell_type": "code",
   "execution_count": 95,
   "id": "7e81cf30-9ad9-4cb3-b157-0214bbb93ee8",
   "metadata": {
    "scrolled": true,
    "tags": []
   },
   "outputs": [],
   "source": [
    "#df_train.head(3)"
   ]
  },
  {
   "cell_type": "code",
   "execution_count": 96,
   "id": "93df2d0b-63c7-4ce3-b400-a679787423d7",
   "metadata": {},
   "outputs": [],
   "source": [
    "#df_train[pos_list].describe()"
   ]
  },
  {
   "cell_type": "code",
   "execution_count": 97,
   "id": "8b821ab2-c0f4-4968-9e6b-9e95fafd351a",
   "metadata": {
    "scrolled": true,
    "tags": []
   },
   "outputs": [],
   "source": [
    "# texts = ' '.join(df_train['text'].to_list())\n",
    "# texts = texts.split(sep=' ')\n",
    "# print(len(texts))\n",
    "# count_text = Counter(texts)\n",
    "# print(count_text.most_common())"
   ]
  },
  {
   "cell_type": "markdown",
   "id": "9bdcff23-f60e-4934-a8f5-5dae39037c32",
   "metadata": {},
   "source": [
    "#### Tf-Idf"
   ]
  },
  {
   "cell_type": "code",
   "execution_count": 98,
   "id": "7587ee71-b2c3-40a4-95c8-d3098db78ad9",
   "metadata": {},
   "outputs": [],
   "source": [
    "#TfIdfText= TfidfVectorizer(ngram_range=(1, 1), min_df=2)\n",
    "#TfIdfText.fit(df_train['text'].to_list())"
   ]
  },
  {
   "cell_type": "code",
   "execution_count": 99,
   "id": "4efb1871-931b-4666-8b4e-c7fdee460fb5",
   "metadata": {
    "scrolled": true,
    "tags": []
   },
   "outputs": [],
   "source": [
    "#print(len(TfIdfText.get_feature_names()))\n",
    "#print(TfIdfText.get_feature_names())"
   ]
  },
  {
   "cell_type": "code",
   "execution_count": 100,
   "id": "d4324ac6-3e80-4272-a627-c2240ac9d736",
   "metadata": {},
   "outputs": [],
   "source": [
    "#df_train = tf_idf(df_train, TfIdfText, 'text')"
   ]
  },
  {
   "cell_type": "markdown",
   "id": "785175bb-e1bd-4853-9839-6aae3c8de5de",
   "metadata": {},
   "source": [
    "#### Bag of Words"
   ]
  },
  {
   "cell_type": "code",
   "execution_count": 101,
   "id": "61c9e76a-4a8d-47c6-a2a2-d240c31c1fe7",
   "metadata": {},
   "outputs": [
    {
     "data": {
      "text/plain": [
       "CountVectorizer(binary=True, min_df=2)"
      ]
     },
     "execution_count": 101,
     "metadata": {},
     "output_type": "execute_result"
    }
   ],
   "source": [
    "CountVecText = CountVectorizer(ngram_range=(1, 1), min_df=2, binary=True)\n",
    "CountVecText.fit(df_train['text'].to_list())"
   ]
  },
  {
   "cell_type": "code",
   "execution_count": 102,
   "id": "02ad5378-9159-43ce-9df2-06e014364672",
   "metadata": {
    "scrolled": true,
    "tags": []
   },
   "outputs": [],
   "source": [
    "# print(len(CountVecText.get_feature_names()))\n",
    "# print(CountVecText.get_feature_names())"
   ]
  },
  {
   "cell_type": "code",
   "execution_count": 103,
   "id": "450494d7-3ad1-4340-99b3-dbacbd446560",
   "metadata": {},
   "outputs": [],
   "source": [
    "df_train = bag_of_words(df_train, CountVecText, 'text')"
   ]
  },
  {
   "cell_type": "code",
   "execution_count": 104,
   "id": "4652f553-0cdd-4c8b-8d58-54d055a609d7",
   "metadata": {
    "scrolled": true,
    "tags": []
   },
   "outputs": [],
   "source": [
    "#df_train.head(3)"
   ]
  },
  {
   "cell_type": "markdown",
   "id": "f3c0e9bf-fbd1-4c0a-a0f9-13c80905d1bc",
   "metadata": {},
   "source": [
    "## Сохранение предобработанных датасетов"
   ]
  },
  {
   "cell_type": "markdown",
   "id": "fff324f6-d71f-4b06-bb7d-88fc49145806",
   "metadata": {},
   "source": [
    "### Train"
   ]
  },
  {
   "cell_type": "code",
   "execution_count": 105,
   "id": "45a5689c-d179-4bce-bd13-e42adbb9b8f5",
   "metadata": {},
   "outputs": [],
   "source": [
    "cols_to_drop = ['publish_date', 'session', 'authors', 'category', 'tags', 'title', 'url_id', 'url', 'tags_word', 'overview', 'text']"
   ]
  },
  {
   "cell_type": "code",
   "execution_count": 106,
   "id": "9be24ead-ce5f-4f21-b9e8-a852680d40cd",
   "metadata": {},
   "outputs": [],
   "source": [
    "#df_train_finale = df_train.drop(cols_to_drop, axis=1)\n",
    "df_train.drop(cols_to_drop, axis=1, inplace=True)"
   ]
  },
  {
   "cell_type": "code",
   "execution_count": 107,
   "id": "05736fff-ff68-4c8d-bbaf-7d9cd907148d",
   "metadata": {},
   "outputs": [
    {
     "name": "stdout",
     "output_type": "stream",
     "text": [
      "(7000, 35692)\n"
     ]
    }
   ],
   "source": [
    "print(df_train.shape)"
   ]
  },
  {
   "cell_type": "code",
   "execution_count": 108,
   "id": "ba2d1a63-d83b-46e4-96b9-41515fc1cb86",
   "metadata": {},
   "outputs": [],
   "source": [
    "#df_train.head(3)"
   ]
  },
  {
   "cell_type": "code",
   "execution_count": 109,
   "id": "6882c43a-9a6c-4ebb-9ce0-363ea3f0275a",
   "metadata": {},
   "outputs": [],
   "source": [
    "#df_train.to_csv('train_features_v6.1.csv')"
   ]
  },
  {
   "cell_type": "markdown",
   "id": "11eec256-e7cc-448f-9aac-2c58be6f69f9",
   "metadata": {},
   "source": [
    "### Test"
   ]
  },
  {
   "cell_type": "code",
   "execution_count": 110,
   "id": "e526ef6a-5750-4092-b3ee-486a3fafd185",
   "metadata": {},
   "outputs": [],
   "source": [
    "df_test = test_data.copy()"
   ]
  },
  {
   "cell_type": "code",
   "execution_count": 111,
   "id": "01bbde44-234c-44cf-aa26-bbab469a00c2",
   "metadata": {},
   "outputs": [],
   "source": [
    "df_test = publish_date_transform(df_test)"
   ]
  },
  {
   "cell_type": "code",
   "execution_count": 112,
   "id": "a13a53cd-ebc5-433a-ad88-b09f17b2f2d7",
   "metadata": {},
   "outputs": [],
   "source": [
    "df_test = category_transform(df_test)"
   ]
  },
  {
   "cell_type": "code",
   "execution_count": 113,
   "id": "11805b81-81ef-4322-b2b3-3b91e0e0adf2",
   "metadata": {},
   "outputs": [],
   "source": [
    "#df_test = bag_of_words(df_test, CountVecAuthors, 'authors')\n",
    "df_test = authors_transform(df_test)"
   ]
  },
  {
   "cell_type": "code",
   "execution_count": 114,
   "id": "90a21d00-2cac-4858-bc09-50fb2baf06d9",
   "metadata": {},
   "outputs": [],
   "source": [
    "#df_test = bag_of_words(df_test, CountVecTags, 'tags')\n",
    "#df_test['tags'] = df_test['tags_name'].apply(lambda x: x.replace(' ', '_'))\n",
    "df_test = tags_transform(df_test)"
   ]
  },
  {
   "cell_type": "code",
   "execution_count": 115,
   "id": "c950fa80-5e16-419b-8221-c9336979a2ba",
   "metadata": {},
   "outputs": [
    {
     "data": {
      "application/vnd.jupyter.widget-view+json": {
       "model_id": "69c5d55d453d4b5685a7121f611a79e0",
       "version_major": 2,
       "version_minor": 0
      },
      "text/plain": [
       "  0%|          | 0/3000 [00:00<?, ?it/s]"
      ]
     },
     "metadata": {},
     "output_type": "display_data"
    }
   ],
   "source": [
    "df_test = title_transform(df_test)"
   ]
  },
  {
   "cell_type": "code",
   "execution_count": 116,
   "id": "5dbc06de-7c61-4cb1-9b77-74099d3f9cd5",
   "metadata": {},
   "outputs": [],
   "source": [
    "#df_test = tf_idf(df_test, TfIdfTitle, 'title')\n",
    "df_test = bag_of_words(df_test, CountVecTitle, 'title')"
   ]
  },
  {
   "cell_type": "code",
   "execution_count": 117,
   "id": "3e18b6eb-2007-48a9-bd3d-67017b44cabd",
   "metadata": {},
   "outputs": [
    {
     "data": {
      "application/vnd.jupyter.widget-view+json": {
       "model_id": "7e539ccc8b8343f692ad0334183fe629",
       "version_major": 2,
       "version_minor": 0
      },
      "text/plain": [
       "  0%|          | 0/3000 [00:00<?, ?it/s]"
      ]
     },
     "metadata": {},
     "output_type": "display_data"
    }
   ],
   "source": [
    "df_test = overview_transform(df_test)"
   ]
  },
  {
   "cell_type": "code",
   "execution_count": 118,
   "id": "30e8ec13-d7eb-4257-beac-cfb2be806ac6",
   "metadata": {},
   "outputs": [],
   "source": [
    "#df_test = tf_idf(df_test, TfIdfOverview, 'overview')\n",
    "df_test = bag_of_words(df_test, CountVecOverview, 'overview')"
   ]
  },
  {
   "cell_type": "code",
   "execution_count": 119,
   "id": "d914ac7a-b177-412e-83c6-ee06c79a6fd7",
   "metadata": {},
   "outputs": [
    {
     "data": {
      "application/vnd.jupyter.widget-view+json": {
       "model_id": "696ddf28fd1745fa88f5a6650ccb74bf",
       "version_major": 2,
       "version_minor": 0
      },
      "text/plain": [
       "0it [00:00, ?it/s]"
      ]
     },
     "metadata": {},
     "output_type": "display_data"
    },
    {
     "data": {
      "application/vnd.jupyter.widget-view+json": {
       "model_id": "45869f136ce545ceb127442fb3253d33",
       "version_major": 2,
       "version_minor": 0
      },
      "text/plain": [
       "  0%|          | 0/3000 [00:00<?, ?it/s]"
      ]
     },
     "metadata": {},
     "output_type": "display_data"
    }
   ],
   "source": [
    "df_test = text_transform(df_test)"
   ]
  },
  {
   "cell_type": "code",
   "execution_count": 120,
   "id": "03d3b6b1-e6cb-4886-96d3-2b0ab9de2ec5",
   "metadata": {},
   "outputs": [],
   "source": [
    "#df_test = tf_idf(df_test, TfIdfText, 'text')\n",
    "df_test = bag_of_words(df_test, CountVecText, 'text')"
   ]
  },
  {
   "cell_type": "code",
   "execution_count": 121,
   "id": "3d3de41a-18d9-40b6-8b96-ff784209037b",
   "metadata": {},
   "outputs": [],
   "source": [
    "#df_test_finale = df_test.drop(cols_to_drop, axis=1)\n",
    "df_test.drop(cols_to_drop, axis=1, inplace=True)"
   ]
  },
  {
   "cell_type": "code",
   "execution_count": 122,
   "id": "6ee0a6cf-4bfe-4489-9bc8-b812d715890d",
   "metadata": {},
   "outputs": [
    {
     "name": "stdout",
     "output_type": "stream",
     "text": [
      "(3000, 35689)\n"
     ]
    }
   ],
   "source": [
    "print(df_test.shape)"
   ]
  },
  {
   "cell_type": "code",
   "execution_count": 123,
   "id": "281105f7-df1a-49fa-b280-69246e60b56a",
   "metadata": {},
   "outputs": [],
   "source": [
    "#df_test.head(3)"
   ]
  },
  {
   "cell_type": "code",
   "execution_count": 124,
   "id": "1f0e270d-621d-4fa9-9b95-6857b64bdc24",
   "metadata": {},
   "outputs": [],
   "source": [
    "#df_test.to_csv('test_features_v6.1.csv')"
   ]
  },
  {
   "cell_type": "code",
   "execution_count": null,
   "id": "8a44a4d2-cc01-479d-b52c-47c52d56cd61",
   "metadata": {},
   "outputs": [],
   "source": []
  },
  {
   "cell_type": "code",
   "execution_count": null,
   "id": "82d00614-94bc-4978-90c5-04a7f4fa2fec",
   "metadata": {},
   "outputs": [],
   "source": []
  }
 ],
 "metadata": {
  "kernelspec": {
   "display_name": "Python 3 (ipykernel)",
   "language": "python",
   "name": "python3"
  },
  "language_info": {
   "codemirror_mode": {
    "name": "ipython",
    "version": 3
   },
   "file_extension": ".py",
   "mimetype": "text/x-python",
   "name": "python",
   "nbconvert_exporter": "python",
   "pygments_lexer": "ipython3",
   "version": "3.9.6"
  }
 },
 "nbformat": 4,
 "nbformat_minor": 5
}
